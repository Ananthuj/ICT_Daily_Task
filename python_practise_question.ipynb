{
  "nbformat": 4,
  "nbformat_minor": 0,
  "metadata": {
    "colab": {
      "provenance": []
    },
    "kernelspec": {
      "name": "python3",
      "display_name": "Python 3"
    },
    "language_info": {
      "name": "python"
    }
  },
  "cells": [
    {
      "cell_type": "markdown",
      "source": [
        "Write a Python program which accepts the radius of a circle from the user\n",
        "and compute the area.\n",
        "Sample input: Enter the radius: 3\n",
        "Sample output: Area of Circle is 28.59999999999\n"
      ],
      "metadata": {
        "id": "UARGR0ve_s8t"
      }
    },
    {
      "cell_type": "code",
      "source": [
        "\n",
        "r=int(input(\"Enter the radius:\"))\n",
        "area=3.14*r*r\n",
        "print(f\"Area:{area}\")"
      ],
      "metadata": {
        "colab": {
          "base_uri": "https://localhost:8080/"
        },
        "id": "MErbqABU_u1y",
        "outputId": "202f0463-7596-4c30-9f27-a6fa6d85fb7e"
      },
      "execution_count": null,
      "outputs": [
        {
          "output_type": "stream",
          "name": "stdout",
          "text": [
            "Enter the radius:3\n",
            "Area:28.259999999999998\n"
          ]
        }
      ]
    },
    {
      "cell_type": "markdown",
      "source": [
        "Write a Python Program to accept the details of a student like name, roll\n",
        "number and mark and display it.\n",
        "Sample input: Enter the name: Anisha\n",
        "Enter the roll number: 21\n",
        "Enter the mark: 78\n",
        "Sample output: Name: Anisha\n",
        "Roll No: 21\n",
        "Mark: 78"
      ],
      "metadata": {
        "id": "W7s6dTG8AxCC"
      }
    },
    {
      "cell_type": "code",
      "source": [
        "na=input('Enter your name:')\n",
        "ro=int(input(\"Roll no:\"))\n",
        "ma=int(input(\"Enter marks:\"))\n",
        "print(\"Your details are:\")\n",
        "print(\"\\nName:\",na)\n",
        "print(\"Roll no:\",ro)\n",
        "print(\"Marks:\",ma)"
      ],
      "metadata": {
        "colab": {
          "base_uri": "https://localhost:8080/"
        },
        "id": "1U-4uBADAi9C",
        "outputId": "a16c39e6-fd1a-483c-fa58-38b6f733aff7"
      },
      "execution_count": null,
      "outputs": [
        {
          "output_type": "stream",
          "name": "stdout",
          "text": [
            "Enter your name:Ajay\n",
            "Roll no:13\n",
            "Enter marks:45\n",
            "Your details are:\n",
            "\n",
            "Name: Ajay\n",
            "Roll no: 13\n",
            "Marks: 45\n"
          ]
        }
      ]
    },
    {
      "cell_type": "markdown",
      "source": [
        "Write a Python program to get the largest number from a list.\n",
        "Sample input: 12, 3, 47, 10\n",
        "Sample output: 47 is the largest number."
      ],
      "metadata": {
        "id": "UmfaQqqaCq6P"
      }
    },
    {
      "cell_type": "code",
      "source": [
        "list=[]\n",
        "n=int(input(\"Enter the number of elements:\"))\n",
        "for i in range(n):\n",
        "  list1=int(input(\"Enter value:\"))\n",
        "  list.append(list1)\n",
        "ma=max(list)\n",
        "print(\"Elements in list:\",list)\n",
        "print(\"Largest value:\",ma)"
      ],
      "metadata": {
        "colab": {
          "base_uri": "https://localhost:8080/"
        },
        "id": "x2QiSaMOB9ic",
        "outputId": "40db29e2-c5ba-4c55-b4a5-a6079a084d08"
      },
      "execution_count": null,
      "outputs": [
        {
          "output_type": "stream",
          "name": "stdout",
          "text": [
            "Enter the number of elements:5\n",
            "Enter value:34\n",
            "Enter value:66\n",
            "Enter value:23\n",
            "Enter value:45\n",
            "Enter value:14\n",
            "Elements in list: [34, 66, 23, 45, 14]\n",
            "Largest value: 66\n"
          ]
        }
      ]
    },
    {
      "cell_type": "markdown",
      "source": [
        ". Given a range of first 10 numbers, write a Python program to iterate from\n",
        "start number to the end number and print the sum of the current number\n",
        "and previous number.\n",
        "Sample input: 1….10\n",
        "Sample output: Current Number 1 Previous Number 0 Sum: 1 Current\n",
        "Number 2 Previous Number 1 Sum: 3 Current Number 3 Previous\n",
        "Number 2 Sum: 5… Current Number 10 Previous Number 9 Sum: 19"
      ],
      "metadata": {
        "id": "MvlSDDFeF0eU"
      }
    },
    {
      "cell_type": "code",
      "source": [
        "\n",
        "for i in range(1,11):\n",
        "  sum=i+(i-1)\n",
        "  print(f\"Current value {i} previou value {i-1}: sum= {sum}\")"
      ],
      "metadata": {
        "colab": {
          "base_uri": "https://localhost:8080/"
        },
        "id": "gwTkhRk-FJ9W",
        "outputId": "f1eb5bf8-6647-4374-f90b-eb31a215f38a"
      },
      "execution_count": null,
      "outputs": [
        {
          "output_type": "stream",
          "name": "stdout",
          "text": [
            "Current value 1 previou value 0: sum= 1\n",
            "Current value 2 previou value 1: sum= 3\n",
            "Current value 3 previou value 2: sum= 5\n",
            "Current value 4 previou value 3: sum= 7\n",
            "Current value 5 previou value 4: sum= 9\n",
            "Current value 6 previou value 5: sum= 11\n",
            "Current value 7 previou value 6: sum= 13\n",
            "Current value 8 previou value 7: sum= 15\n",
            "Current value 9 previou value 8: sum= 17\n",
            "Current value 10 previou value 9: sum= 19\n"
          ]
        }
      ]
    },
    {
      "cell_type": "markdown",
      "source": [
        "Write a Python program to print only those numbers which are divisible\n",
        "of 5.\n",
        "Sample input: 10, 20,33,46,55 Sample output: 10, 20, 55\n"
      ],
      "metadata": {
        "id": "BXx83Bz-KUqu"
      }
    },
    {
      "cell_type": "code",
      "source": [
        "app=[]\n",
        "list=[]\n",
        "n=int(input(\"Enter the number of elements:\"))\n",
        "for j in range(n):\n",
        "  value=int(input(\"Enter value:\"))\n",
        "  list.append(value)\n",
        "for i in list:\n",
        "  if i%5==0:\n",
        "    app.append(i)\n",
        "print(list)\n",
        "print(app)\n"
      ],
      "metadata": {
        "colab": {
          "base_uri": "https://localhost:8080/"
        },
        "id": "IUR7-PlRHsro",
        "outputId": "f201d9e8-16c8-48e2-8ae4-a99a4aaa19cd"
      },
      "execution_count": 22,
      "outputs": [
        {
          "output_type": "stream",
          "name": "stdout",
          "text": [
            "Enter the number of elements:5\n",
            "Enter value:20\n",
            "Enter value:33\n",
            "Enter value:46\n",
            "Enter value:55\n",
            "Enter value:10\n",
            "[20, 33, 46, 55, 10]\n",
            "[20, 55, 10]\n"
          ]
        }
      ]
    },
    {
      "cell_type": "markdown",
      "source": [
        ". Write a Python program to check whether a number is prime or not.\n",
        "Sample input: Enter the number: 3\n",
        "Sample output: 3 is a prime number."
      ],
      "metadata": {
        "id": "PD6ybhp6PD8H"
      }
    },
    {
      "cell_type": "code",
      "source": [
        "n=int(input(\"Enter the value:\"))\n",
        "count=0\n",
        "if n>1:\n",
        "  for i in range(1,n+ 1):\n",
        "    if n%i==0:\n",
        "      count=count+1\n",
        "  if count==2:\n",
        "    print(\"prime\")\n",
        "  else:\n",
        "    print(\"not prime\")\n",
        "else:\n",
        "  print(\"not prime\")\n",
        "\n"
      ],
      "metadata": {
        "id": "1bs85cqzLDtU",
        "colab": {
          "base_uri": "https://localhost:8080/"
        },
        "outputId": "9d2df1b2-c2aa-4d2b-ea76-854fe4a0766f"
      },
      "execution_count": 48,
      "outputs": [
        {
          "output_type": "stream",
          "name": "stdout",
          "text": [
            "Enter the value:13\n",
            "prime\n"
          ]
        }
      ]
    },
    {
      "cell_type": "markdown",
      "source": [
        "Write a Python program to reverse a list using for loop.\n",
        "Sample input: 10,40,30,70\n",
        "Sample output: 70,30,40,10"
      ],
      "metadata": {
        "id": "CZmSQCNqSe_H"
      }
    },
    {
      "cell_type": "code",
      "source": [
        "list=[]\n",
        "rev=[]\n",
        "n=int(input(\"Enter The number of element:\"))\n",
        "for i in range(n):\n",
        "  value=int(input(\"Enter values:\"))\n",
        "  list.append(value)\n",
        "for j in list[::-1]:\n",
        "  rev.append(j)\n",
        "print(list)\n",
        "print(rev)"
      ],
      "metadata": {
        "colab": {
          "base_uri": "https://localhost:8080/"
        },
        "id": "FHjZngeKSJob",
        "outputId": "e861892e-4ccf-4fa9-f05f-24c457e2e494"
      },
      "execution_count": 57,
      "outputs": [
        {
          "output_type": "stream",
          "name": "stdout",
          "text": [
            "Enter The number of element:5\n",
            "Enter values:12\n",
            "Enter values:5\n",
            "Enter values:45\n",
            "Enter values:47\n",
            "Enter values:13\n",
            "[12, 5, 45, 47, 13]\n",
            "[13, 47, 45, 5, 12]\n"
          ]
        }
      ]
    },
    {
      "cell_type": "markdown",
      "source": [
        "![8.PNG](data:image/png;base64,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)"
      ],
      "metadata": {
        "id": "nXkEoH9joJ25"
      }
    },
    {
      "cell_type": "code",
      "source": [
        "for i in range(4):\n",
        "  for j in range(i+1):\n",
        "    print(\"*\",end=\"\")\n",
        "  print()"
      ],
      "metadata": {
        "colab": {
          "base_uri": "https://localhost:8080/"
        },
        "id": "ApssQjFhoJlK",
        "outputId": "d48be534-12a6-425d-eb89-3263cf96d00a"
      },
      "execution_count": 60,
      "outputs": [
        {
          "output_type": "stream",
          "name": "stdout",
          "text": [
            "*\n",
            "**\n",
            "***\n",
            "****\n"
          ]
        }
      ]
    },
    {
      "cell_type": "markdown",
      "source": [
        " Write a Python program to find the maximum of three numbers\n",
        "Sample input: 34,12,7\n",
        "Sample output: 34\n"
      ],
      "metadata": {
        "id": "O6XRtDSZpmvr"
      }
    },
    {
      "cell_type": "code",
      "source": [
        "a=int(input(\"enter first value:\"))\n",
        "b=int(input(\"enter second value:\"))\n",
        "c=int(input(\"enter first value:\"))\n",
        "if a>b and a>c:\n",
        "  print(a)\n",
        "elif b>a and b>c:\n",
        "  print(b)\n",
        "else:\n",
        "  print(c)"
      ],
      "metadata": {
        "colab": {
          "base_uri": "https://localhost:8080/"
        },
        "id": "dWZqvDgWVgM1",
        "outputId": "e8b39a6a-f1a1-4caa-ebd8-8d520ddc4671"
      },
      "execution_count": 61,
      "outputs": [
        {
          "output_type": "stream",
          "name": "stdout",
          "text": [
            "enter first value:34\n",
            "enter second value:12\n",
            "enter first value:27\n",
            "34\n"
          ]
        }
      ]
    },
    {
      "cell_type": "markdown",
      "source": [
        "![10.PNG](data:image/png;base64,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)"
      ],
      "metadata": {
        "id": "ztsxTJJ7rIf_"
      }
    },
    {
      "cell_type": "code",
      "source": [
        "for i in range(4):\n",
        "  for j in range(i+1):\n",
        "    print(\"*\",end=\"\")\n",
        "  print()\n",
        "for i in range(4):\n",
        "  for j in range(4-i):\n",
        "    print(\"*\",end=\"\")\n",
        "  print()"
      ],
      "metadata": {
        "colab": {
          "base_uri": "https://localhost:8080/"
        },
        "outputId": "449d69fb-e497-4ef1-aa12-dbd66bc7c99b",
        "id": "2hyLVaWDtXnu"
      },
      "execution_count": 63,
      "outputs": [
        {
          "output_type": "stream",
          "name": "stdout",
          "text": [
            "*\n",
            "**\n",
            "***\n",
            "****\n",
            "****\n",
            "***\n",
            "**\n",
            "*\n"
          ]
        }
      ]
    },
    {
      "cell_type": "markdown",
      "source": [],
      "metadata": {
        "id": "RiI9aVX2uHsX"
      }
    }
  ]
}