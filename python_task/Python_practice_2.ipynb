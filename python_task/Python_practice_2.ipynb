{
  "nbformat": 4,
  "nbformat_minor": 0,
  "metadata": {
    "colab": {
      "provenance": []
    },
    "kernelspec": {
      "name": "python3",
      "display_name": "Python 3"
    },
    "language_info": {
      "name": "python"
    }
  },
  "cells": [
    {
      "cell_type": "markdown",
      "source": [
        "1. Write a Python program to accept a string value from the user and display\n",
        "the count of each character in that string. Sample input: Enter a string\n",
        "value: assembly Sample output: a=1, s=2, e=1, m=1, b=1, l=1, y=1"
      ],
      "metadata": {
        "id": "pCiZCQYVD0hw"
      }
    },
    {
      "cell_type": "code",
      "source": [
        "string = input(\"Enter a string value: \")\n",
        "count = {}\n",
        "for i in string:\n",
        "  if i in count:\n",
        "    count[i]+= 1\n",
        "  else:\n",
        "    count[i]=1\n",
        "print(count)#output = \", \".join(f\"{i}={count}\" for i,count in count())\n"
      ],
      "metadata": {
        "colab": {
          "base_uri": "https://localhost:8080/"
        },
        "id": "hKe8AaTLfQ_q",
        "outputId": "e3d7db51-5bb5-4c19-a719-9ceb7372ce93"
      },
      "execution_count": null,
      "outputs": [
        {
          "output_type": "stream",
          "name": "stdout",
          "text": [
            "Enter a string value: assembly\n",
            "{'a': 1, 's': 2, 'e': 1, 'm': 1, 'b': 1, 'l': 1, 'y': 1}\n"
          ]
        }
      ]
    },
    {
      "cell_type": "markdown",
      "source": [
        "2. . Write a Python function to find the maximum of three numbers Sample\n",
        "input: 34,12,7 Sample output: 34"
      ],
      "metadata": {
        "id": "9IYBJIUPHPpg"
      }
    },
    {
      "cell_type": "code",
      "source": [
        "def large(a,b,c):\n",
        "  if a>b and a>c:\n",
        "    return a\n",
        "  elif b>a and b>c:\n",
        "    return b\n",
        "  else:\n",
        "    return c\n",
        "x=int(input(\"Enter the first value:\"))\n",
        "y=int(input(\"Second value:\"))\n",
        "z=int(input(\"Third value:\"))\n",
        "print(f\"Largest:{large(x,y,z)}\")"
      ],
      "metadata": {
        "colab": {
          "base_uri": "https://localhost:8080/"
        },
        "id": "EgL-Iyk5HdKa",
        "outputId": "c7efe690-fd04-44e2-9e3c-88663aff2df2"
      },
      "execution_count": null,
      "outputs": [
        {
          "output_type": "stream",
          "name": "stdout",
          "text": [
            "Enter the first value:34\n",
            "Second value:12\n",
            "Third value:7\n",
            "Largest:34\n"
          ]
        }
      ]
    },
    {
      "cell_type": "markdown",
      "source": [
        "3. Write a Python function called exponent(base,exp) that returns an\n",
        "integer value of base raises to the power of exp. Sample input: Enter the\n",
        "base: 2 Enter the exponent: 3 Sample output: 8"
      ],
      "metadata": {
        "id": "E_RUbvsCHc9a"
      }
    },
    {
      "cell_type": "code",
      "source": [
        "def exponent(base,exp):\n",
        "  output=base**exp\n",
        "  return output\n",
        "n=int(input(\"Enter the base:\"))\n",
        "m=int(input(\"Enter the exponent:\"))\n",
        "print(f\"{n} raise to {m} is: {exponent(n,m)}\")"
      ],
      "metadata": {
        "colab": {
          "base_uri": "https://localhost:8080/"
        },
        "id": "GKLVI6HWHcqM",
        "outputId": "44fe7032-1626-4307-d2e7-b2b7cdcedaee"
      },
      "execution_count": null,
      "outputs": [
        {
          "output_type": "stream",
          "name": "stdout",
          "text": [
            "Enter the base:2\n",
            "Enter the exponent:3\n",
            "2 raise to 3 is: 8\n"
          ]
        }
      ]
    },
    {
      "cell_type": "markdown",
      "source": [
        "4. Write a Python function that takes a positive integer and returns the sum\n",
        "of the cube of all the positive integers smaller than the specified number.\n",
        "Sample input: 4 Sample output: 36."
      ],
      "metadata": {
        "id": "e9AegpakHcMm"
      }
    },
    {
      "cell_type": "code",
      "source": [
        "def cu(x):\n",
        "  sum=0\n",
        "  for i in range(n):\n",
        "    cube=i*i*i\n",
        "    sum=cube+sum\n",
        "  return sum\n",
        "n=int(input(\"Enter the value:\"))\n",
        "print(sum)"
      ],
      "metadata": {
        "colab": {
          "base_uri": "https://localhost:8080/"
        },
        "id": "kiOxB8qRHblM",
        "outputId": "39b6508b-561f-4b0d-c387-879cae36d37b"
      },
      "execution_count": 44,
      "outputs": [
        {
          "output_type": "stream",
          "name": "stdout",
          "text": [
            "Enter the value:4\n",
            "36\n"
          ]
        }
      ]
    },
    {
      "cell_type": "markdown",
      "source": [
        "5. Write a Python program which iterates from 1 to 10. For multiples of 2,\n",
        "print “Fizz” instead of the number and for the multiples of 5, print “Buzz”.\n",
        "For numbers which are multiples of both 2 and 5, print “FizzBuzz”.\n",
        "Sample input: numbers from 1 to 10 Sample output: 1 Fizz 3 Fizz Buzz\n",
        "Fizz 7 Fizz 9 FizzBuzz"
      ],
      "metadata": {
        "id": "wLp9XiWlDzn7"
      }
    },
    {
      "cell_type": "code",
      "source": [
        "n=int(input(\"Enter a number from 1 to 10:\"))\n",
        "for i in range(1, n+1):\n",
        "    if i % 2 == 0 and i % 5 == 0:\n",
        "        print(\"FizzBuzz\")\n",
        "    elif i % 2 == 0:\n",
        "        print(\"Fizz\")\n",
        "    elif i % 5 == 0:\n",
        "        print(\"Buzz\")\n",
        "    else:\n",
        "        print(i)"
      ],
      "metadata": {
        "colab": {
          "base_uri": "https://localhost:8080/"
        },
        "id": "5B0q_OvtGcka",
        "outputId": "38dca785-56db-4d25-ef66-82ad3a4e5d77"
      },
      "execution_count": null,
      "outputs": [
        {
          "output_type": "stream",
          "name": "stdout",
          "text": [
            "Enter a number from 1 to 10:10\n",
            "1\n",
            "Fizz\n",
            "3\n",
            "Fizz\n",
            "Buzz\n",
            "Fizz\n",
            "7\n",
            "Fizz\n",
            "9\n",
            "FizzBuzz\n"
          ]
        }
      ]
    },
    {
      "cell_type": "markdown",
      "source": [
        "6. Write a Python program to find the most frequent item in a list of\n",
        "numbers. Sample input: 2, 3, 4, 2, 5, 2 Sample output: 2\n"
      ],
      "metadata": {
        "id": "wI8kG-MZIc13"
      }
    },
    {
      "cell_type": "code",
      "source": [
        "def most_item(list):\n",
        "    return max(set(list), key=list.count)\n",
        "n=int(input(\"Enter the number of elements:\"))\n",
        "list=[]\n",
        "for i in range(n):\n",
        "  value=int(input(\"Enter the value:\"))\n",
        "  list.append(value)\n",
        "print(most_item(list))"
      ],
      "metadata": {
        "colab": {
          "base_uri": "https://localhost:8080/"
        },
        "id": "QEvqWTA9IsFl",
        "outputId": "c0e50c28-ae3a-422c-fa2a-d858c41c8965"
      },
      "execution_count": null,
      "outputs": [
        {
          "output_type": "stream",
          "name": "stdout",
          "text": [
            "Enter the number of elements:6\n",
            "Enter the value:2\n",
            "Enter the value:3\n",
            "Enter the value:4\n",
            "Enter the value:2\n",
            "Enter the value:5\n",
            "Enter the value:2\n",
            "2\n"
          ]
        }
      ]
    },
    {
      "cell_type": "markdown",
      "source": [
        "7. Write a Python program to find the sum of squares of the numbers in a\n",
        "list. Sample input: 2,1,3,1 Sample output: 15"
      ],
      "metadata": {
        "id": "HwrniDInIrWq"
      }
    },
    {
      "cell_type": "code",
      "source": [
        "n=int(input(\"Enter the number of elements:\"))\n",
        "list=[]\n",
        "sum=0\n",
        "for i in range(n):\n",
        "  value=int(input(\"Enter the value:\"))\n",
        "  list.append(value)\n",
        "for i in list:\n",
        "  sq=i*i\n",
        "  sum=sum+sq\n",
        "print(list)\n",
        "print(f\"sum={sum}\")\n"
      ],
      "metadata": {
        "colab": {
          "base_uri": "https://localhost:8080/"
        },
        "id": "rAMCfPwaIrBj",
        "outputId": "120de87d-1a02-4d90-ba68-cdaec0ef8c7e"
      },
      "execution_count": null,
      "outputs": [
        {
          "output_type": "stream",
          "name": "stdout",
          "text": [
            "Enter the number of elements:4\n",
            "Enter the value:2\n",
            "Enter the value:1\n",
            "Enter the value:3\n",
            "Enter the value:1\n",
            "[2, 1, 3, 1]\n",
            "sum=15\n"
          ]
        }
      ]
    },
    {
      "cell_type": "markdown",
      "source": [
        "8. Write a Python program using for loop that will iterate from 1 to 15. For\n",
        "each iteration, check if the current number is odd or even, and display the\n",
        "message to the screen as odd or even. Sample input: 1….15 Sample\n",
        "output: 1-odd 2-even …. 15-odd\n"
      ],
      "metadata": {
        "id": "h743MtUIItcE"
      }
    },
    {
      "cell_type": "code",
      "source": [
        "for i in range(1, 16):\n",
        "    if i % 2 == 0:\n",
        "        print(f\"{i}-even\")\n",
        "    else:\n",
        "        print(f\"{i}-odd\")"
      ],
      "metadata": {
        "colab": {
          "base_uri": "https://localhost:8080/"
        },
        "id": "nz8nMraVJOOb",
        "outputId": "ee343669-cbf2-4b85-d071-bd2dd18a666f"
      },
      "execution_count": null,
      "outputs": [
        {
          "output_type": "stream",
          "name": "stdout",
          "text": [
            "1-odd\n",
            "2-even\n",
            "3-odd\n",
            "4-even\n",
            "5-odd\n",
            "6-even\n",
            "7-odd\n",
            "8-even\n",
            "9-odd\n",
            "10-even\n",
            "11-odd\n",
            "12-even\n",
            "13-odd\n",
            "14-even\n",
            "15-odd\n"
          ]
        }
      ]
    },
    {
      "cell_type": "markdown",
      "source": [
        "9. Write a Python program to convert temperatures to and from Celsius\n",
        "Fahrenheit. [Formula: c/5=f-32/9 where c=temperature in Celsius and f=\n",
        "temperature in Fahrenheit.] Sample input: Temperature in Fahrenheit\n",
        "=41 Sample output: Temperature in Celsius =5"
      ],
      "metadata": {
        "id": "bnYZy-QQJP8a"
      }
    },
    {
      "cell_type": "code",
      "source": [
        "print(\"Converter\\n \\n1.Celsius to Fahrenheit.\\n2.Fahrenheit to Celsius.\")\n",
        "option=int(input(\"\\n Select 1 or 2:\"))\n",
        "if option==1:\n",
        "  t=int(input(\"Enter temperature in Celsius:\"))\n",
        "  result=t*(9.0/5.0)+32\n",
        "  print(f\"Temperature in Fahrenheit={result}F\")\n",
        "elif option==2:\n",
        "  t=int(input(\"Enter temperature in Fahrenheit:\"))\n",
        "  result=(t-32)*(5.0/9.0)\n",
        "  print(f\"Temperature in Celsius={result}C\")\n",
        "else:\n",
        "  print(\"invalid option\")"
      ],
      "metadata": {
        "colab": {
          "base_uri": "https://localhost:8080/"
        },
        "id": "SAofCLYnJUHz",
        "outputId": "c6839fab-309c-4d16-c056-27ceee750490"
      },
      "execution_count": null,
      "outputs": [
        {
          "output_type": "stream",
          "name": "stdout",
          "text": [
            "Converter\n",
            " \n",
            "1.Celsius to Fahrenheit.\n",
            "2.Fahrenheit to Celsius.\n",
            "\n",
            " Select 1 or 2:1\n",
            "Enter temperature in Celsius:37\n",
            "Temperature in Fahrenheit=98.60000000000001F\n"
          ]
        }
      ]
    },
    {
      "cell_type": "markdown",
      "source": [
        "10. Write a Python function to calculate the factorial of a number (a\n",
        "nonnegative integer). The function accepts the number as an argument.\n",
        "Sample input: 3 Sample output: 6"
      ],
      "metadata": {
        "id": "ZoHyEpwNJOt7"
      }
    },
    {
      "cell_type": "code",
      "source": [
        "def factorial(n):\n",
        "    if n<0:\n",
        "        return \"Factorial is not defined for negative numbers.\"\n",
        "    elif n==0 or n==1:\n",
        "        return 1\n",
        "    else:\n",
        "        result=1\n",
        "        for i in range(2,n+1):\n",
        "            result*=i\n",
        "        return result\n",
        "x=int(input(\"Enter the value:\"))\n",
        "print(f\"Factorial of {x} is {factorial(x)}\")"
      ],
      "metadata": {
        "colab": {
          "base_uri": "https://localhost:8080/"
        },
        "id": "Gify3zqvHFtX",
        "outputId": "85067a7f-7383-45d1-8378-fd3d9a985e4e"
      },
      "execution_count": null,
      "outputs": [
        {
          "output_type": "stream",
          "name": "stdout",
          "text": [
            "Enter the value:3\n",
            "Factorial of 3 is 6\n"
          ]
        }
      ]
    }
  ]
}